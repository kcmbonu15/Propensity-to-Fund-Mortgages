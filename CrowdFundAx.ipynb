{
 "cells": [
  {
   "cell_type": "markdown",
   "metadata": {},
   "source": [
    "# Libraries for Modelling"
   ]
  },
  {
   "cell_type": "code",
   "execution_count": 55,
   "metadata": {},
   "outputs": [],
   "source": [
    "#Import Libraries\n",
    "import pandas as pd\n",
    "import numpy as np\n",
    "import matplotlib.pyplot as plt\n",
    "import seaborn as sns\n",
    "%matplotlib inline\n",
    "from sklearn.metrics import accuracy_score, confusion_matrix\n",
    "from sklearn.preprocessing  import MinMaxScaler\n",
    "from sklearn.utils import resample\n",
    "from sklearn.model_selection  import train_test_split\n",
    "from collections import Counter\n",
    "from imblearn.over_sampling import SMOTE\n",
    "#from sklearn.linear_model import LogisticRegression"
   ]
  },
  {
   "cell_type": "code",
   "execution_count": 56,
   "metadata": {},
   "outputs": [],
   "source": [
    "# import the train and test datasets\n",
    "train = pd.read_csv('CAX_MortgageModeling_Train.csv')\n",
    "test = pd.read_csv('CAX_MortgageModeling_Test.csv')"
   ]
  },
  {
   "cell_type": "code",
   "execution_count": 57,
   "metadata": {},
   "outputs": [],
   "source": [
    "# Fill na with zero for the dependent variable that contain NA\n",
    "test[\"RESULT\"] = test[\"RESULT\"].fillna(0).astype(\"int\")\n"
   ]
  },
  {
   "cell_type": "code",
   "execution_count": 58,
   "metadata": {},
   "outputs": [
    {
     "data": {
      "text/plain": [
       "Counter({0: 15214})"
      ]
     },
     "execution_count": 58,
     "metadata": {},
     "output_type": "execute_result"
    }
   ],
   "source": [
    "# The test Na has zero's in integer\n",
    "Counter(test[\"RESULT\"])"
   ]
  },
  {
   "cell_type": "code",
   "execution_count": 59,
   "metadata": {},
   "outputs": [
    {
     "data": {
      "text/plain": [
       "Counter({'FUNDED': 36023, 'NOT FUNDED': 9619})"
      ]
     },
     "execution_count": 59,
     "metadata": {},
     "output_type": "execute_result"
    }
   ],
   "source": [
    "# The train dependent variables is inbalance\n",
    "Counter(train[\"RESULT\"])"
   ]
  },
  {
   "cell_type": "markdown",
   "metadata": {},
   "source": [
    "# Data preparation and Cleaning both for Train & Test"
   ]
  },
  {
   "cell_type": "code",
   "execution_count": 60,
   "metadata": {},
   "outputs": [],
   "source": [
    "# Creating a new variables  and converting them in thousands\n",
    "train[\"MORT_AMT in Thousand\"] =(train[\"MORTGAGE AMOUNT\"]/ 10000).astype(int)\n",
    "test[\"MORT_AMT in Thousand\"] =(test[\"MORTGAGE AMOUNT\"]/ 10000).astype(int)"
   ]
  },
  {
   "cell_type": "code",
   "execution_count": 61,
   "metadata": {},
   "outputs": [],
   "source": [
    "# Delete columns that are not useful or not useful description from the data dictionary in train and test datasets\n",
    "train.drop(['NAICS CODE','INCOME TYPE', 'MORTGAGE AMOUNT','MORTGAGE NUMBER','FSA'], axis=1, inplace=True)\n",
    "# Delete columns that are not useful or not useful description from the data dictionary\n",
    "test.drop(['NAICS CODE','INCOME TYPE', 'MORTGAGE AMOUNT','MORTGAGE NUMBER','FSA'], axis=1, inplace=True)"
   ]
  },
  {
   "cell_type": "code",
   "execution_count": 62,
   "metadata": {},
   "outputs": [],
   "source": [
    "#The classification of the property type  being used to secure the mortgage fund and Single Detached as the most\n",
    "# and Fourplex as the least\n",
    "train[\"PROPERTY TYPE\"].value_counts()\n",
    "test[\"PROPERTY TYPE\"].value_counts()\n",
    "\n",
    "#Since  Male is the most common Gender we replace it with the male\n",
    "train.replace(to_replace =\"Unknown\",\n",
    "                 value =\"Male\",inplace =True)\n",
    "test.replace(to_replace =\"Unknown\",\n",
    "                 value =\"Male\",inplace =True)"
   ]
  },
  {
   "cell_type": "code",
   "execution_count": 63,
   "metadata": {},
   "outputs": [],
   "source": [
    "# One of the variable was in string format we have replace under 25 with 21-25\n",
    "train.replace(to_replace =\"Under 25\",\n",
    "                 value =\"21-25\",inplace =True)\n",
    "# One of the variable was in string format we have replace under 25 with 21-25\n",
    "test.replace(to_replace =\"Under 25\",\n",
    "                 value =\"21-25\",inplace =True)"
   ]
  },
  {
   "cell_type": "code",
   "execution_count": 64,
   "metadata": {},
   "outputs": [],
   "source": [
    "\n",
    "# One of the variable was in string format we have replace 70 and over with 70-74\n",
    "train.replace(to_replace =\"70 and over\",\n",
    "                 value =\"70-74\",inplace =True)\n",
    "\n",
    "\n",
    "# One of the variable was in string format we have replace 70 and over with 70-74\n",
    "test.replace(to_replace =\"70 and over\",\n",
    "                 value =\"70-74\",inplace =True)"
   ]
  },
  {
   "cell_type": "code",
   "execution_count": 65,
   "metadata": {},
   "outputs": [],
   "source": [
    "# Function to split and calculate the bin values of age_range variables and rename it as age variables\n",
    "def split_mean(x):\n",
    "    split_list = x.split('-')\n",
    "    mean = (float(split_list[0])+float(split_list[1]))/2\n",
    "    return mean"
   ]
  },
  {
   "cell_type": "code",
   "execution_count": 66,
   "metadata": {},
   "outputs": [],
   "source": [
    "# We calculate and apply the mean values to the  dataframe\n",
    "train['AGE'] = train['AGE RANGE'].apply(lambda x: split_mean(x))\n",
    "\n",
    "# We calculate and apply the mean values to the  dataframe\n",
    "test['AGE'] = test['AGE RANGE'].apply(lambda x: split_mean(x))"
   ]
  },
  {
   "cell_type": "code",
   "execution_count": 67,
   "metadata": {},
   "outputs": [],
   "source": [
    "# we divide the variables by 30 to get the number of months on each of variables\n",
    "def calculate_months(day):\n",
    "    months = day/30\n",
    "    return int(months)\n",
    "## for train\n",
    "columns = [\"AMORTIZATION\"]\n",
    "for col in columns:\n",
    "    train[col]= train[col].apply(calculate_months)\n",
    "## test    \n",
    "columns = [\"AMORTIZATION\"]\n",
    "for col in columns:    \n",
    "    test[col]= test[col].apply(calculate_months)"
   ]
  },
  {
   "cell_type": "code",
   "execution_count": 68,
   "metadata": {},
   "outputs": [],
   "source": [
    "# we replace the variable na with python variables formats\n",
    "train.replace(to_replace =\"NOT FUNDED\",\n",
    "                 value =\"NOT_FUNDED\",inplace =True)"
   ]
  },
  {
   "cell_type": "code",
   "execution_count": 69,
   "metadata": {},
   "outputs": [],
   "source": [
    "## categorical variable encoding using replace values with dictionary comprehension to assign values to each of the categorical variables\n",
    "labels = train['PROPERTY TYPE'].astype('category').cat.categories.tolist()\n",
    "replace_map_comp = {'PROPERTY TYPE' : {k: v for k,v in zip(labels,list(range(1,len(labels)+1)))}}\n",
    "## we append the new encoded values to the dataframe\n",
    "train.replace(replace_map_comp, inplace=True)\n",
    "\n",
    "\n",
    "## categorical variable encoding using replace values with dictionary comprehension to assign values to each of the categorical variables\n",
    "labels = test['PROPERTY TYPE'].astype('category').cat.categories.tolist()\n",
    "replace_map_comp = {'PROPERTY TYPE' : {k: v for k,v in zip(labels,list(range(1,len(labels)+1)))}}\n",
    "## we append the new encoded values to the dataframe\n",
    "test.replace(replace_map_comp, inplace=True)"
   ]
  },
  {
   "cell_type": "code",
   "execution_count": 70,
   "metadata": {},
   "outputs": [],
   "source": [
    "# Categorical encoding by assiging values to 1 as Male and 0 as Female\n",
    "replace_map_g = {'GENDER': {'Male': 1, 'Female': 0}}\n",
    "\n",
    "## we append the new encoded values to the dataframe on GENDER Variable\n",
    "train.replace(replace_map_g, inplace=True)\n",
    "\n",
    "\n",
    "# Categorical encoding by assiging values to 1 as Male and 0 as Female\n",
    "replace_map_g = {'GENDER': {'Male': 1, 'Female': 0}}\n",
    "\n",
    "## we append the new encoded values to the dataframe on GENDER Variable\n",
    "test.replace(replace_map_g, inplace=True)"
   ]
  },
  {
   "cell_type": "code",
   "execution_count": 71,
   "metadata": {},
   "outputs": [],
   "source": [
    "## categorical variable encoding using replace values with dictionary comprehension to assign values to each of th\n",
    "labels = train['PAYMENT FREQUENCY'].astype('category').cat.categories.tolist()\n",
    "replace_map_paymt = {'PAYMENT FREQUENCY' : {k: v for k,v in zip(labels,list(range(1,len(labels)+1)))}}\n",
    "\n",
    "## we append the new encoded values to the dataframe on PAYMENT FREQUENCY Variable\n",
    "train.replace(replace_map_paymt, inplace=True)\n",
    "\n",
    "\n",
    "## categorical variable encoding using replace values with dictionary comprehension to assign values to each of th\n",
    "labels = test['PAYMENT FREQUENCY'].astype('category').cat.categories.tolist()\n",
    "replace_map_paymt = {'PAYMENT FREQUENCY' : {k: v for k,v in zip(labels,list(range(1,len(labels)+1)))}}\n",
    "\n",
    "## we append the new encoded values to the dataframe on PAYMENT FREQUENCY Variable\n",
    "test.replace(replace_map_paymt, inplace=True)"
   ]
  },
  {
   "cell_type": "code",
   "execution_count": 72,
   "metadata": {},
   "outputs": [],
   "source": [
    "# we convert the mortgage purpose variables to category\n",
    "train[\"MORTGAGE PURPOSE\"] = train[\"MORTGAGE PURPOSE\"].astype(\"category\")\n",
    "\n",
    "# Categorical encoding by assiging values to 1 as Purchase  and 0 as Refinance\n",
    "replace_map_mort = {'MORTGAGE PURPOSE': {'Purchase': 1, 'Refinance': 0}}\n",
    "\n",
    "## we replace the new encoded values to the dataframe\n",
    "train.replace(replace_map_mort, inplace=True)\n",
    "\n",
    "\n",
    "# we convert the mortgage purpose variables to category\n",
    "test[\"MORTGAGE PURPOSE\"] = test[\"MORTGAGE PURPOSE\"].astype(\"category\")\n",
    "\n",
    "# Categorical encoding by assiging values to 1 as Purchase  and 0 as Refinance\n",
    "replace_map_mort = {'MORTGAGE PURPOSE': {'Purchase': 1, 'Refinance': 0}}\n",
    "\n",
    "## we replace the new encoded values to the dataframe\n",
    "test.replace(replace_map_mort, inplace=True)"
   ]
  },
  {
   "cell_type": "code",
   "execution_count": 73,
   "metadata": {},
   "outputs": [],
   "source": [
    "# We dropped the age_range variable after extracting the age\n",
    "train.drop([\"AGE RANGE\"], axis = 1, inplace =True)\n",
    "test.drop([\"AGE RANGE\"], axis = 1, inplace =True)"
   ]
  },
  {
   "cell_type": "code",
   "execution_count": 74,
   "metadata": {},
   "outputs": [],
   "source": [
    " #create feature for test for out_of _sample (X)\n",
    "feature_cols = ['PROPERTY VALUE', 'MORTGAGE PAYMENT', 'GDS', 'LTV','CREDIT SCORE', 'TDS','AMORTIZATION','RATE','MORTGAGE PURPOSE','PAYMENT FREQUENCY','PROPERTY TYPE','TERM','GENDER','INCOME','MORT_AMT in Thousand','AGE']\n",
    "X = test[feature_cols]"
   ]
  },
  {
   "cell_type": "code",
   "execution_count": 75,
   "metadata": {},
   "outputs": [],
   "source": [
    "## We have the train data\n",
    "#train_df = alldata[alldata.RESULT != 0]\n",
    "\n",
    "#we have the test datasets\n",
    "#test_df= alldata[alldata['RESULT']==0]"
   ]
  },
  {
   "cell_type": "code",
   "execution_count": 76,
   "metadata": {},
   "outputs": [],
   "source": [
    "#We dropped the Unique_id from the train since we not using it in training the model\n",
    "Counter(train[\"RESULT\"])\n",
    "train = train.drop('Unique_ID', axis =1)\n",
    "#test = test.drop('Unique_ID', axis = 1)\n",
    "#test_df = test_df.drop('Unique_ID', axis =1)"
   ]
  },
  {
   "cell_type": "code",
   "execution_count": 77,
   "metadata": {},
   "outputs": [
    {
     "data": {
      "text/plain": [
       "(45642,)"
      ]
     },
     "execution_count": 77,
     "metadata": {},
     "output_type": "execute_result"
    }
   ],
   "source": [
    "# We split the dependent variables and the explanatory variables and peformed dummy on the variables\n",
    "# And map the dependent to One and zeros \n",
    "pre_y = train['RESULT']\n",
    "pre_X = train.drop('RESULT', axis =1)\n",
    "dm_X = pd.get_dummies(pre_X)\n",
    "dm_y = pre_y.map(dict(FUNDED = 1, NOT_FUNDED = 0))\n",
    "pre_y.shape"
   ]
  },
  {
   "cell_type": "code",
   "execution_count": 78,
   "metadata": {},
   "outputs": [],
   "source": [
    "# This is  a resampling technique to balance the dependent variables which was inbalance\n",
    "#This is done by calculating the distances among samples of the minority class and samples of the training data.\n",
    "#SMOTE is an oversampling algorithm that relies on the concept of nearest neighbors to create its synthetic data\n",
    "smote = SMOTE(ratio = 'minority')\n",
    "X1, y = smote.fit_sample(dm_X, dm_y)\n",
    "se = MinMaxScaler()\n",
    "X = se.fit_transform(X1)"
   ]
  },
  {
   "cell_type": "code",
   "execution_count": 79,
   "metadata": {},
   "outputs": [
    {
     "data": {
      "text/plain": [
       "Counter({1: 36023, 0: 36023})"
      ]
     },
     "execution_count": 79,
     "metadata": {},
     "output_type": "execute_result"
    }
   ],
   "source": [
    "# The dependent variables is now balance\n",
    "Counter(y)"
   ]
  },
  {
   "cell_type": "markdown",
   "metadata": {},
   "source": [
    "# Evaluation procedure : Train/test split\n",
    "\n",
    "    1.Split the dataset into two pieces: a training set and a testing set.\n",
    "    2.Train the model on the training set.\n",
    "    3.Test the model on the testing set, and evaluate how well we did.\n",
    "\n"
   ]
  },
  {
   "cell_type": "code",
   "execution_count": 80,
   "metadata": {},
   "outputs": [],
   "source": [
    "#Evaluating the procedures for Train & testing datasets\n",
    "# STEP 1: split X and y into training and testing sets\n",
    "from sklearn.model_selection import train_test_split # Train 80% and test 20%\n",
    "X_train, X_test, y_train, y_test = train_test_split(X, y, test_size=0.2, random_state=2)\n"
   ]
  },
  {
   "cell_type": "code",
   "execution_count": 81,
   "metadata": {},
   "outputs": [
    {
     "name": "stderr",
     "output_type": "stream",
     "text": [
      "c:\\users\\kcmbo\\pycharmprojects\\fundcrowd\\venv\\lib\\site-packages\\sklearn\\linear_model\\logistic.py:432: FutureWarning: Default solver will be changed to 'lbfgs' in 0.22. Specify a solver to silence this warning.\n",
      "  FutureWarning)\n"
     ]
    },
    {
     "data": {
      "text/plain": [
       "LogisticRegression(C=1.0, class_weight=None, dual=False, fit_intercept=True,\n",
       "                   intercept_scaling=1, l1_ratio=None, max_iter=100,\n",
       "                   multi_class='warn', n_jobs=None, penalty='l2',\n",
       "                   random_state=None, solver='warn', tol=0.0001, verbose=0,\n",
       "                   warm_start=False)"
      ]
     },
     "execution_count": 81,
     "metadata": {},
     "output_type": "execute_result"
    }
   ],
   "source": [
    "# train a logistic regression model on the training set\n",
    "from sklearn.linear_model import LogisticRegression\n",
    "logreg = LogisticRegression()\n",
    "logreg.fit(X_train, y_train)"
   ]
  },
  {
   "cell_type": "code",
   "execution_count": 82,
   "metadata": {},
   "outputs": [],
   "source": [
    "# make class predictions for the testing set\n",
    "#Testing accuracy is a better estimate than training accuracy of out-of-sample performance\n",
    "y_pred_class = logreg.predict(X_test)"
   ]
  },
  {
   "cell_type": "code",
   "execution_count": 83,
   "metadata": {},
   "outputs": [
    {
     "name": "stdout",
     "output_type": "stream",
     "text": [
      "0.6034004163775156\n"
     ]
    }
   ],
   "source": [
    "# calculate accuracy # 60% Accuracy for Logistic regression\n",
    "from sklearn import metrics\n",
    "print(metrics.accuracy_score(y_test, y_pred_class))"
   ]
  },
  {
   "cell_type": "code",
   "execution_count": 84,
   "metadata": {},
   "outputs": [
    {
     "name": "stdout",
     "output_type": "stream",
     "text": [
      "[[4676 2518]\n",
      " [3197 4019]]\n"
     ]
    }
   ],
   "source": [
    "# IMPORTANT: first argument is true values, second argument is predicted values\n",
    "print(metrics.confusion_matrix(y_test, y_pred_class))"
   ]
  },
  {
   "cell_type": "code",
   "execution_count": 85,
   "metadata": {},
   "outputs": [
    {
     "name": "stdout",
     "output_type": "stream",
     "text": [
      "[[4676 2518]\n",
      " [3197 4019]]\n"
     ]
    }
   ],
   "source": [
    "cm= confusion_matrix(y_test, y_pred_class)\n",
    "print(cm)"
   ]
  },
  {
   "cell_type": "code",
   "execution_count": 86,
   "metadata": {},
   "outputs": [
    {
     "data": {
      "image/png": "[encoded data removed]",
      "text/plain": [
       "<Figure size 288x288 with 2 Axes>"
      ]
     },
     "metadata": {
      "needs_background": "light"
     },
     "output_type": "display_data"
    }
   ],
   "source": [
    "#show plot of confusion matrix \n",
    "plt.matshow(cm)\n",
    "plt.title('Confusion matrix')\n",
    "plt.colorbar()\n",
    "plt.ylabel('True label')\n",
    "plt.xlabel('Predicted label')\n",
    "plt.show()"
   ]
  },
  {
   "cell_type": "code",
   "execution_count": 97,
   "metadata": {},
   "outputs": [
    {
     "name": "stdout",
     "output_type": "stream",
     "text": [
      "0.7595419847328244\n"
     ]
    }
   ],
   "source": [
    "# We Use KNN model for the train and test split  Accuracy was 76%\n",
    "from sklearn.neighbors import KNeighborsClassifier\n",
    "knn = KNeighborsClassifier(n_neighbors=5)\n",
    "knn.fit(X_train, y_train)\n",
    "y_pred2 = knn.predict(X_test)\n",
    "print(metrics.accuracy_score(y_test, y_pred2))"
   ]
  },
  {
   "cell_type": "code",
   "execution_count": 88,
   "metadata": {},
   "outputs": [
    {
     "name": "stdout",
     "output_type": "stream",
     "text": [
      "[[5026 2168]\n",
      " [1297 5919]]\n"
     ]
    }
   ],
   "source": [
    "#print(metrics.accuracy_score(y_test, y_pred2)\n",
    "print(metrics.confusion_matrix(y_test, y_pred2))"
   ]
  },
  {
   "cell_type": "code",
   "execution_count": 89,
   "metadata": {},
   "outputs": [
    {
     "name": "stdout",
     "output_type": "stream",
     "text": [
      "[[5026 2168]\n",
      " [1297 5919]]\n"
     ]
    }
   ],
   "source": [
    "km= confusion_matrix(y_test, y_pred2)\n",
    "print(km)"
   ]
  },
  {
   "cell_type": "code",
   "execution_count": 90,
   "metadata": {},
   "outputs": [
    {
     "data": {
      "image/png": "[encoded data removed]",
      "text/plain": [
       "<Figure size 288x288 with 2 Axes>"
      ]
     },
     "metadata": {
      "needs_background": "light"
     },
     "output_type": "display_data"
    }
   ],
   "source": [
    "#show plot of confusion matrix \n",
    "plt.matshow(km)\n",
    "plt.title('Confusion matrix')\n",
    "plt.colorbar()\n",
    "plt.ylabel('True label')\n",
    "plt.xlabel('Predicted label')\n",
    "plt.show()"
   ]
  },
  {
   "cell_type": "markdown",
   "metadata": {},
   "source": [
    "# Cross-validation example: parameter tuning"
   ]
  },
  {
   "cell_type": "code",
   "execution_count": 92,
   "metadata": {},
   "outputs": [],
   "source": [
    "#Select the best tuning parameters (aka \"hyperparameters\") for KNN on\n",
    "# We Use KNN model using 5 fold CV  Accuracy was 76%\n",
    "from sklearn.model_selection import cross_val_score"
   ]
  },
  {
   "cell_type": "code",
   "execution_count": 93,
   "metadata": {},
   "outputs": [
    {
     "name": "stdout",
     "output_type": "stream",
     "text": [
      "[0.5870923  0.73907009 0.81387925 0.82162687 0.81544975]\n"
     ]
    }
   ],
   "source": [
    "# 5-fold cross-validation with K=5 for KNN (the n_neighbors parameter)\n",
    "knn = KNeighborsClassifier(n_neighbors=5)\n",
    "scores = cross_val_score(knn, X, y, cv=5, scoring='accuracy')\n",
    "print(scores)"
   ]
  },
  {
   "cell_type": "code",
   "execution_count": 44,
   "metadata": {},
   "outputs": [
    {
     "name": "stdout",
     "output_type": "stream",
     "text": [
      "0.7559092508171688\n"
     ]
    }
   ],
   "source": [
    "# use average accuracy as an estimate of out-of-sample accuracy\n",
    "print(scores.mean())"
   ]
  },
  {
   "cell_type": "code",
   "execution_count": 94,
   "metadata": {},
   "outputs": [
    {
     "name": "stderr",
     "output_type": "stream",
     "text": [
      "c:\\users\\kcmbo\\pycharmprojects\\fundcrowd\\venv\\lib\\site-packages\\sklearn\\linear_model\\logistic.py:432: FutureWarning: Default solver will be changed to 'lbfgs' in 0.22. Specify a solver to silence this warning.\n",
      "  FutureWarning)\n",
      "c:\\users\\kcmbo\\pycharmprojects\\fundcrowd\\venv\\lib\\site-packages\\sklearn\\linear_model\\logistic.py:432: FutureWarning: Default solver will be changed to 'lbfgs' in 0.22. Specify a solver to silence this warning.\n",
      "  FutureWarning)\n",
      "c:\\users\\kcmbo\\pycharmprojects\\fundcrowd\\venv\\lib\\site-packages\\sklearn\\linear_model\\logistic.py:432: FutureWarning: Default solver will be changed to 'lbfgs' in 0.22. Specify a solver to silence this warning.\n",
      "  FutureWarning)\n",
      "c:\\users\\kcmbo\\pycharmprojects\\fundcrowd\\venv\\lib\\site-packages\\sklearn\\linear_model\\logistic.py:432: FutureWarning: Default solver will be changed to 'lbfgs' in 0.22. Specify a solver to silence this warning.\n",
      "  FutureWarning)\n",
      "c:\\users\\kcmbo\\pycharmprojects\\fundcrowd\\venv\\lib\\site-packages\\sklearn\\linear_model\\logistic.py:432: FutureWarning: Default solver will be changed to 'lbfgs' in 0.22. Specify a solver to silence this warning.\n",
      "  FutureWarning)\n"
     ]
    },
    {
     "name": "stdout",
     "output_type": "stream",
     "text": [
      "0.6064323390390334\n"
     ]
    }
   ],
   "source": [
    "# 5-fold cross-validation with logistic regression # Accuracy was 60%\n",
    "from sklearn.linear_model import LogisticRegression\n",
    "logreg = LogisticRegression()\n",
    "print(cross_val_score(logreg, X, y, cv=5, scoring='accuracy').mean())"
   ]
  },
  {
   "cell_type": "markdown",
   "metadata": {},
   "source": [
    "# Cross-validation example: model selection"
   ]
  },
  {
   "cell_type": "code",
   "execution_count": 95,
   "metadata": {},
   "outputs": [],
   "source": [
    "# When Comparing the model both for  train/test split and 5 K-Fold Cross validation KNN Model was 76% & Logistics was 61%\n",
    "# So we select KNN which is a better estimator of out-sample and we use it to predict out-sample data"
   ]
  },
  {
   "cell_type": "code",
   "execution_count": 98,
   "metadata": {},
   "outputs": [],
   "source": [
    "## Out of sample prediction and output\n",
    "out_pred = knn.predict(test[feature_cols])\n",
    "\n",
    "holdout_id = test[\"Unique_ID\"]\n",
    "\n",
    "sub_df = {\"Unique_ID\":holdout_id,\"RESULT\":out_pred}\n",
    "\n",
    "submission = pd.DataFrame(sub_df)\n",
    "\n",
    "submission.to_csv(\"submission_csv\",index=False)"
   ]
  },
  {
   "cell_type": "markdown",
   "metadata": {},
   "source": [
    "# Thank you"
   ]
  },
  {
   "cell_type": "markdown",
   "metadata": {},
   "source": [
    "# Kingsley Mbonu "
   ]
  },
  {
   "cell_type": "code",
   "execution_count": null,
   "metadata": {},
   "outputs": [],
   "source": []
  }
 ],
 "metadata": {
  "kernelspec": {
   "display_name": "Python 3",
   "language": "python",
   "name": "python3"
  },
  "language_info": {
   "codemirror_mode": {
    "name": "ipython",
    "version": 3
   },
   "file_extension": ".py",
   "mimetype": "text/x-python",
   "name": "python",
   "nbconvert_exporter": "python",
   "pygments_lexer": "ipython3",
   "version": "3.7.4"
  }
 },
 "nbformat": 4,
 "nbformat_minor": 2
}
